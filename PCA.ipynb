{
 "cells": [
  {
   "cell_type": "code",
   "execution_count": 10,
   "id": "ae38a4d8",
   "metadata": {
    "ExecuteTime": {
     "end_time": "2022-12-09T13:09:24.659727Z",
     "start_time": "2022-12-09T13:09:24.634136Z"
    }
   },
   "outputs": [],
   "source": [
    "%config Completer.use_jedi = False\n",
    "import sys\n",
    "import warnings\n",
    "warnings.filterwarnings('ignore')\n",
    "import numpy as np\n",
    "import matplotlib.pyplot as plt\n",
    "import scipy as sp\n",
    "from sklearn.decomposition import PCA\n",
    "from matplotlib.pyplot import imread\n",
    "\n",
    "np.random.seed(43)"
   ]
  },
  {
   "cell_type": "markdown",
   "id": "fd14951b",
   "metadata": {},
   "source": [
    "# Generate a 2D synthesised data with a given correlation matrix"
   ]
  },
  {
   "cell_type": "code",
   "execution_count": null,
   "id": "bd8a1217",
   "metadata": {
    "ExecuteTime": {
     "end_time": "2022-12-09T13:39:41.116800Z",
     "start_time": "2022-12-09T13:39:41.106080Z"
    }
   },
   "outputs": [],
   "source": [
    "sigma = np.array([[3, -2], [-2, 0.5]])\n",
    "print(\"Sigma: \")\n",
    "print(sigma)\n",
    "\n",
    "X = np.random.multivariate_normal([4.5, 3.5],\n",
    "                                            sigma, \n",
    "                                            500)\n",
    "\n"
   ]
  },
  {
   "cell_type": "code",
   "execution_count": null,
   "id": "17d2ebf1",
   "metadata": {
    "ExecuteTime": {
     "end_time": "2022-12-09T13:39:42.202825Z",
     "start_time": "2022-12-09T13:39:42.009442Z"
    }
   },
   "outputs": [],
   "source": [
    "plt.scatter(X[:,0], X[:,1])\n",
    "plt.grid()"
   ]
  },
  {
   "cell_type": "markdown",
   "id": "e42de4b3",
   "metadata": {},
   "source": [
    "# Use PCA to find the Principal directions"
   ]
  },
  {
   "cell_type": "code",
   "execution_count": 70,
   "id": "163bef31",
   "metadata": {
    "ExecuteTime": {
     "end_time": "2022-12-09T13:39:44.017877Z",
     "start_time": "2022-12-09T13:39:44.007856Z"
    }
   },
   "outputs": [],
   "source": [
    "pca = PCA()\n",
    "S_pca_ = pca.fit(X).transform(X)"
   ]
  },
  {
   "cell_type": "markdown",
   "id": "383b996f",
   "metadata": {},
   "source": [
    "# Two perpendicular directions that define the dataset despersion in 2D space."
   ]
  },
  {
   "cell_type": "code",
   "execution_count": null,
   "id": "ab1a2832",
   "metadata": {
    "ExecuteTime": {
     "end_time": "2022-12-09T13:39:45.243219Z",
     "start_time": "2022-12-09T13:39:45.233192Z"
    }
   },
   "outputs": [],
   "source": [
    "axis = pca.components_.T\n",
    "x_axis, y_axis = axis\n",
    "print(\"First direction:\", x_axis)\n",
    "print(\"Second direction:\", y_axis)"
   ]
  },
  {
   "cell_type": "code",
   "execution_count": null,
   "id": "c8b797de",
   "metadata": {
    "ExecuteTime": {
     "end_time": "2022-12-09T13:39:46.187900Z",
     "start_time": "2022-12-09T13:39:45.978129Z"
    }
   },
   "outputs": [],
   "source": [
    "X_0 = X - X.mean()\n",
    "plt.scatter(X_0[:,0], X_0[:,1])\n",
    "\n",
    "plt.quiver(\n",
    "    (0, 0),\n",
    "    (0, 0),\n",
    "    x_axis,\n",
    "    y_axis,\n",
    "    zorder=11,\n",
    "    width=0.01,\n",
    "    scale=6,\n",
    "    color=\"orange\",\n",
    "    label=\"PCA\",\n",
    ")\n",
    "plt.grid()\n",
    "plt.legend()\n",
    "plt.show()"
   ]
  },
  {
   "cell_type": "code",
   "execution_count": null,
   "id": "2f93b365",
   "metadata": {},
   "outputs": [],
   "source": []
  }
 ],
 "metadata": {
  "kernelspec": {
   "display_name": "Python 3 (ipykernel)",
   "language": "python",
   "name": "python3"
  },
  "language_info": {
   "codemirror_mode": {
    "name": "ipython",
    "version": 3
   },
   "file_extension": ".py",
   "mimetype": "text/x-python",
   "name": "python",
   "nbconvert_exporter": "python",
   "pygments_lexer": "ipython3",
   "version": "3.10.4"
  },
  "varInspector": {
   "cols": {
    "lenName": 16,
    "lenType": 16,
    "lenVar": 40
   },
   "kernels_config": {
    "python": {
     "delete_cmd_postfix": "",
     "delete_cmd_prefix": "del ",
     "library": "var_list.py",
     "varRefreshCmd": "print(var_dic_list())"
    },
    "r": {
     "delete_cmd_postfix": ") ",
     "delete_cmd_prefix": "rm(",
     "library": "var_list.r",
     "varRefreshCmd": "cat(var_dic_list()) "
    }
   },
   "types_to_exclude": [
    "module",
    "function",
    "builtin_function_or_method",
    "instance",
    "_Feature"
   ],
   "window_display": false
  }
 },
 "nbformat": 4,
 "nbformat_minor": 5
}
