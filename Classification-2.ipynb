{
 "cells": [
  {
   "cell_type": "markdown",
   "id": "0bf01c1f",
   "metadata": {},
   "source": [
    "Datasource link: [Kaggle: Cleveland UCI](https://www.kaggle.com/datasets/cherngs/heart-disease-cleveland-uci?select=heart_cleveland_upload.csv)"
   ]
  },
  {
   "cell_type": "code",
   "execution_count": 1,
   "id": "5d6c8027",
   "metadata": {
    "ExecuteTime": {
     "end_time": "2022-12-15T16:05:26.837637Z",
     "start_time": "2022-12-15T16:05:23.603563Z"
    }
   },
   "outputs": [],
   "source": [
    "%config Completer.use_jedi = False\n",
    "import numpy as np\n",
    "import matplotlib.pyplot as plt\n",
    "import pandas as pd\n",
    "import seaborn as sns\n",
    "\n",
    "!wget https://raw.githubusercontent.com/rpazuki/MLCourse/main/utils.py\n",
    "from utils import *"
   ]
  },
  {
   "cell_type": "markdown",
   "id": "403438d7",
   "metadata": {},
   "source": [
    "### First, load the data"
   ]
  },
  {
   "cell_type": "code",
   "execution_count": null,
   "id": "c52ab09b",
   "metadata": {
    "ExecuteTime": {
     "end_time": "2022-12-15T16:05:28.598769Z",
     "start_time": "2022-12-15T16:05:28.562595Z"
    }
   },
   "outputs": [],
   "source": [
    "df = pd.read_csv(\"https://raw.githubusercontent.com/rpazuki/MLCourse/main/heart_cleveland_upload.csv\")\n",
    "df.head()"
   ]
  },
  {
   "cell_type": "markdown",
   "id": "fd3c64fe",
   "metadata": {},
   "source": [
    "### Next, analysing the data provides insight about __hypothesis space__, and consequently, the ML method and algorithm.\n",
    "\n",
    "> Here, we plot the histogram for different discrete attributes, separated by heart disease binary condition."
   ]
  },
  {
   "cell_type": "code",
   "execution_count": null,
   "id": "461af9f5",
   "metadata": {
    "ExecuteTime": {
     "end_time": "2022-12-15T16:05:30.869473Z",
     "start_time": "2022-12-15T16:05:30.234136Z"
    }
   },
   "outputs": [],
   "source": [
    "features = [\"sex\", \"cp\", \"fbs\" , \"restecg\", \"exang\",\"slope\", \"ca\", \"thal\"]\n",
    "fig = plt.figure(figsize=(16,8))\n",
    "for i, feature in enumerate(features):\n",
    "    fig.add_subplot(2, 4, i+1)\n",
    "    sns.countplot(data=df, x=feature,hue='condition')"
   ]
  },
  {
   "cell_type": "markdown",
   "id": "e2b882d4",
   "metadata": {
    "ExecuteTime": {
     "end_time": "2022-12-07T22:42:37.777768Z",
     "start_time": "2022-12-07T22:42:37.760373Z"
    }
   },
   "source": [
    "> And also, a grid plot for comparing two by two scatter plots of continuous quantities."
   ]
  },
  {
   "cell_type": "code",
   "execution_count": null,
   "id": "1318e3bc",
   "metadata": {
    "ExecuteTime": {
     "end_time": "2022-12-15T16:05:34.622960Z",
     "start_time": "2022-12-15T16:05:30.908570Z"
    }
   },
   "outputs": [],
   "source": [
    "g = sns.PairGrid(df[[\"age\", \"trestbps\", \"chol\",\"thalach\",\"oldpeak\",\"condition\"]], hue=\"condition\")\n",
    "g.map_diag(sns.histplot)\n",
    "g.map_offdiag(sns.scatterplot)\n",
    "g.add_legend()"
   ]
  },
  {
   "cell_type": "markdown",
   "id": "e73caa78",
   "metadata": {},
   "source": [
    "### Divide the dataset to Train and test, using scikit-learn __train_test_split__ function"
   ]
  },
  {
   "cell_type": "code",
   "execution_count": 5,
   "id": "041675d9",
   "metadata": {
    "ExecuteTime": {
     "end_time": "2022-12-15T16:05:35.190063Z",
     "start_time": "2022-12-15T16:05:34.677220Z"
    }
   },
   "outputs": [],
   "source": [
    "from sklearn.model_selection import train_test_split\n",
    "\n",
    "X = df.drop(['condition'], axis=1)\n",
    "y = df[\"condition\"]\n",
    "X_train, X_test, y_train, y_test = train_test_split(X, y, test_size=0.33, random_state=42)"
   ]
  },
  {
   "cell_type": "markdown",
   "id": "114dae43",
   "metadata": {},
   "source": [
    "### Train the model by __Logistic Regression__ model and predict the values of the test set."
   ]
  },
  {
   "cell_type": "code",
   "execution_count": 6,
   "id": "612fa759",
   "metadata": {
    "ExecuteTime": {
     "end_time": "2022-12-15T16:05:35.452840Z",
     "start_time": "2022-12-15T16:05:35.285106Z"
    }
   },
   "outputs": [],
   "source": [
    "from sklearn.linear_model import LogisticRegression\n",
    "\n",
    "reg = LogisticRegression(max_iter=1000)\n",
    "reg.fit(X_train, y_train)\n",
    "y_pred = reg.predict(X_test)"
   ]
  },
  {
   "cell_type": "markdown",
   "id": "43623bd4",
   "metadata": {},
   "source": [
    "### Estimate the classification performance"
   ]
  },
  {
   "cell_type": "code",
   "execution_count": null,
   "id": "41c6bd53",
   "metadata": {
    "ExecuteTime": {
     "end_time": "2022-12-15T16:05:35.538445Z",
     "start_time": "2022-12-15T16:05:35.533438Z"
    }
   },
   "outputs": [],
   "source": [
    "from sklearn import metrics\n",
    "\n",
    "accuracy = metrics.accuracy_score(y_test, y_pred)\n",
    "recall = metrics.recall_score(y_test, y_pred)\n",
    "precision = metrics.precision_score(y_test, y_pred)\n",
    "\n",
    "print(f\"Prediction Accuracy: {accuracy*100:.1f}%\")\n",
    "print(f\"recall Accuracy: {recall:.3f}\")\n",
    "print(f\"Prediction precision: {precision:.3f}\")"
   ]
  },
  {
   "cell_type": "markdown",
   "id": "76ef3411",
   "metadata": {},
   "source": [
    "> Confusion Matrix"
   ]
  },
  {
   "cell_type": "code",
   "execution_count": null,
   "id": "b5e87331",
   "metadata": {
    "ExecuteTime": {
     "end_time": "2022-12-15T16:05:35.749631Z",
     "start_time": "2022-12-15T16:05:35.617399Z"
    }
   },
   "outputs": [],
   "source": [
    "from sklearn.metrics import classification_report\n",
    "from sklearn.metrics import confusion_matrix\n",
    "\n",
    "confusion_m = confusion_matrix(y_test, y_pred)\n",
    "cm_p = sns.heatmap(confusion_m, annot=True)\n",
    "cm_p.set_xlabel(\"Prediction\")\n",
    "cm_p.set_ylabel(\"Actual\")\n",
    "cm_p.invert_xaxis()\n",
    "cm_p.invert_yaxis()"
   ]
  },
  {
   "cell_type": "markdown",
   "id": "f1d8f5f6",
   "metadata": {},
   "source": [
    "> ROC curve"
   ]
  },
  {
   "cell_type": "code",
   "execution_count": null,
   "id": "54885937",
   "metadata": {
    "ExecuteTime": {
     "end_time": "2022-12-15T16:05:35.923111Z",
     "start_time": "2022-12-15T16:05:35.831856Z"
    }
   },
   "outputs": [],
   "source": [
    "# Compute ROC curve and ROC area for conditions\n",
    "import matplotlib.pyplot as plt\n",
    "fpr, tpr, thresholds = metrics.roc_curve(y_test.values, y_pred)\n",
    "roc_auc = metrics.auc(fpr, tpr)\n",
    "_ = plt.figure(figsize=(6,4))\n",
    "ax = plt.gca()\n",
    "ax.plot(fpr, tpr, color=\"darkorange\", lw=2, label=f\"ROC curve (area = {roc_auc:0.2f})\" ,)\n",
    "plot_ROC_general(ax, \"Receiver operating characteristic (ROC)\")\n",
    "plt.show()"
   ]
  },
  {
   "cell_type": "markdown",
   "id": "b3816f6a",
   "metadata": {},
   "source": [
    "### Logistic regression can predict the probability of an outcome"
   ]
  },
  {
   "cell_type": "code",
   "execution_count": 11,
   "id": "8be053a2",
   "metadata": {
    "ExecuteTime": {
     "end_time": "2022-12-15T16:06:40.818012Z",
     "start_time": "2022-12-15T16:06:40.809611Z"
    }
   },
   "outputs": [],
   "source": [
    "y_pred_prob = reg.predict_proba(X_test)"
   ]
  },
  {
   "cell_type": "code",
   "execution_count": null,
   "id": "c1c8c880",
   "metadata": {
    "ExecuteTime": {
     "end_time": "2022-12-15T16:06:58.808038Z",
     "start_time": "2022-12-15T16:06:58.697237Z"
    }
   },
   "outputs": [],
   "source": [
    "# Compute ROC curve and ROC area for conditions\n",
    "fpr, tpr, thresholds = metrics.roc_curve(y_test.values, y_pred_prob[:,1])\n",
    "roc_auc = metrics.auc(fpr, tpr)\n",
    "_ = plt.figure(figsize=(6,4))\n",
    "ax = plt.gca()\n",
    "ax.plot(fpr, tpr, color=\"darkorange\", lw=2, label=f\"ROC curve (area = {roc_auc:0.2f})\" ,)\n",
    "plot_ROC_general(ax, \"Receiver operating characteristic (ROC)\")\n",
    "plt.show()"
   ]
  },
  {
   "cell_type": "code",
   "execution_count": 54,
   "id": "b8622afd",
   "metadata": {
    "ExecuteTime": {
     "end_time": "2022-12-07T23:55:04.701053Z",
     "start_time": "2022-12-07T23:55:04.692776Z"
    }
   },
   "outputs": [],
   "source": []
  },
  {
   "cell_type": "code",
   "execution_count": null,
   "id": "dd4657ea",
   "metadata": {},
   "outputs": [],
   "source": []
  }
 ],
 "metadata": {
  "kernelspec": {
   "display_name": "Python 3 (ipykernel)",
   "language": "python",
   "name": "python3"
  },
  "language_info": {
   "codemirror_mode": {
    "name": "ipython",
    "version": 3
   },
   "file_extension": ".py",
   "mimetype": "text/x-python",
   "name": "python",
   "nbconvert_exporter": "python",
   "pygments_lexer": "ipython3",
   "version": "3.8.13"
  },
  "varInspector": {
   "cols": {
    "lenName": 16,
    "lenType": 16,
    "lenVar": 40
   },
   "kernels_config": {
    "python": {
     "delete_cmd_postfix": "",
     "delete_cmd_prefix": "del ",
     "library": "var_list.py",
     "varRefreshCmd": "print(var_dic_list())"
    },
    "r": {
     "delete_cmd_postfix": ") ",
     "delete_cmd_prefix": "rm(",
     "library": "var_list.r",
     "varRefreshCmd": "cat(var_dic_list()) "
    }
   },
   "types_to_exclude": [
    "module",
    "function",
    "builtin_function_or_method",
    "instance",
    "_Feature"
   ],
   "window_display": false
  }
 },
 "nbformat": 4,
 "nbformat_minor": 5
}
