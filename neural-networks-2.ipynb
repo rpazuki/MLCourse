{
 "cells": [
  {
   "cell_type": "markdown",
   "metadata": {
    "colab_type": "text"
   },
   "source": [
    "## Classifying newswires: A multiclass classification example"
   ]
  },
  {
   "cell_type": "markdown",
   "metadata": {
    "colab_type": "text"
   },
   "source": [
    "### The Reuters dataset"
   ]
  },
  {
   "cell_type": "markdown",
   "metadata": {
    "colab_type": "text"
   },
   "source": [
    "**Loading the Reuters dataset**"
   ]
  },
  {
   "cell_type": "code",
   "execution_count": 1,
   "metadata": {
    "ExecuteTime": {
     "end_time": "2022-12-15T16:09:58.958879Z",
     "start_time": "2022-12-15T16:09:45.955672Z"
    },
    "colab_type": "code"
   },
   "outputs": [
    {
     "name": "stderr",
     "output_type": "stream",
     "text": [
      "2022-12-15 16:09:46.960627: I tensorflow/stream_executor/platform/default/dso_loader.cc:48] Successfully opened dynamic library libcudart.so.10.1\n",
      "/end/home/rh2310/.conda/envs/tensorflow.2.3/lib/python3.8/site-packages/tensorflow/python/keras/datasets/reuters.py:148: VisibleDeprecationWarning: Creating an ndarray from ragged nested sequences (which is a list-or-tuple of lists-or-tuples-or ndarrays with different lengths or shapes) is deprecated. If you meant to do this, you must specify 'dtype=object' when creating the ndarray.\n",
      "  x_train, y_train = np.array(xs[:idx]), np.array(labels[:idx])\n",
      "/end/home/rh2310/.conda/envs/tensorflow.2.3/lib/python3.8/site-packages/tensorflow/python/keras/datasets/reuters.py:149: VisibleDeprecationWarning: Creating an ndarray from ragged nested sequences (which is a list-or-tuple of lists-or-tuples-or ndarrays with different lengths or shapes) is deprecated. If you meant to do this, you must specify 'dtype=object' when creating the ndarray.\n",
      "  x_test, y_test = np.array(xs[idx:]), np.array(labels[idx:])\n"
     ]
    }
   ],
   "source": [
    "from tensorflow.keras.datasets import reuters\n",
    "(train_data, train_labels), (test_data, test_labels) = reuters.load_data(\n",
    "    num_words=10000)"
   ]
  },
  {
   "cell_type": "code",
   "execution_count": 2,
   "metadata": {
    "ExecuteTime": {
     "end_time": "2022-12-15T16:11:17.624948Z",
     "start_time": "2022-12-15T16:11:17.608072Z"
    },
    "colab_type": "code"
   },
   "outputs": [
    {
     "data": {
      "text/plain": [
       "8982"
      ]
     },
     "execution_count": 2,
     "metadata": {},
     "output_type": "execute_result"
    }
   ],
   "source": [
    "len(train_data)"
   ]
  },
  {
   "cell_type": "code",
   "execution_count": 3,
   "metadata": {
    "ExecuteTime": {
     "end_time": "2022-12-15T16:11:18.085518Z",
     "start_time": "2022-12-15T16:11:18.079151Z"
    },
    "colab_type": "code"
   },
   "outputs": [
    {
     "data": {
      "text/plain": [
       "2246"
      ]
     },
     "execution_count": 3,
     "metadata": {},
     "output_type": "execute_result"
    }
   ],
   "source": [
    "len(test_data)"
   ]
  },
  {
   "cell_type": "code",
   "execution_count": 4,
   "metadata": {
    "ExecuteTime": {
     "end_time": "2022-12-15T16:11:18.585467Z",
     "start_time": "2022-12-15T16:11:18.575454Z"
    },
    "colab_type": "code",
    "scrolled": true
   },
   "outputs": [
    {
     "data": {
      "text/plain": [
       "[1,\n",
       " 53,\n",
       " 12,\n",
       " 284,\n",
       " 15,\n",
       " 14,\n",
       " 272,\n",
       " 26,\n",
       " 53,\n",
       " 959,\n",
       " 32,\n",
       " 818,\n",
       " 15,\n",
       " 14,\n",
       " 272,\n",
       " 26,\n",
       " 39,\n",
       " 684,\n",
       " 70,\n",
       " 11,\n",
       " 14,\n",
       " 12,\n",
       " 3886,\n",
       " 18,\n",
       " 180,\n",
       " 183,\n",
       " 187,\n",
       " 70,\n",
       " 11,\n",
       " 14,\n",
       " 102,\n",
       " 32,\n",
       " 11,\n",
       " 29,\n",
       " 53,\n",
       " 44,\n",
       " 704,\n",
       " 15,\n",
       " 14,\n",
       " 19,\n",
       " 758,\n",
       " 15,\n",
       " 53,\n",
       " 959,\n",
       " 47,\n",
       " 1013,\n",
       " 15,\n",
       " 14,\n",
       " 19,\n",
       " 132,\n",
       " 15,\n",
       " 39,\n",
       " 965,\n",
       " 32,\n",
       " 11,\n",
       " 14,\n",
       " 147,\n",
       " 72,\n",
       " 11,\n",
       " 180,\n",
       " 183,\n",
       " 187,\n",
       " 44,\n",
       " 11,\n",
       " 14,\n",
       " 102,\n",
       " 19,\n",
       " 11,\n",
       " 123,\n",
       " 186,\n",
       " 90,\n",
       " 67,\n",
       " 960,\n",
       " 4,\n",
       " 78,\n",
       " 13,\n",
       " 68,\n",
       " 467,\n",
       " 511,\n",
       " 110,\n",
       " 59,\n",
       " 89,\n",
       " 90,\n",
       " 67,\n",
       " 1390,\n",
       " 55,\n",
       " 2678,\n",
       " 92,\n",
       " 617,\n",
       " 80,\n",
       " 1274,\n",
       " 46,\n",
       " 905,\n",
       " 220,\n",
       " 13,\n",
       " 4,\n",
       " 346,\n",
       " 48,\n",
       " 235,\n",
       " 629,\n",
       " 5,\n",
       " 211,\n",
       " 5,\n",
       " 1118,\n",
       " 7,\n",
       " 2,\n",
       " 81,\n",
       " 5,\n",
       " 187,\n",
       " 11,\n",
       " 15,\n",
       " 9,\n",
       " 1709,\n",
       " 201,\n",
       " 5,\n",
       " 47,\n",
       " 3615,\n",
       " 18,\n",
       " 478,\n",
       " 4514,\n",
       " 5,\n",
       " 1118,\n",
       " 7,\n",
       " 232,\n",
       " 2,\n",
       " 71,\n",
       " 5,\n",
       " 160,\n",
       " 63,\n",
       " 11,\n",
       " 9,\n",
       " 2,\n",
       " 81,\n",
       " 5,\n",
       " 102,\n",
       " 59,\n",
       " 11,\n",
       " 17,\n",
       " 12]"
      ]
     },
     "execution_count": 4,
     "metadata": {},
     "output_type": "execute_result"
    }
   ],
   "source": [
    "train_data[2]"
   ]
  },
  {
   "cell_type": "markdown",
   "metadata": {
    "colab_type": "text"
   },
   "source": [
    "**Decoding newswires back to text**"
   ]
  },
  {
   "cell_type": "code",
   "execution_count": 5,
   "metadata": {
    "ExecuteTime": {
     "end_time": "2022-12-15T16:11:20.110145Z",
     "start_time": "2022-12-15T16:11:20.063608Z"
    },
    "colab_type": "code"
   },
   "outputs": [],
   "source": [
    "word_index = reuters.get_word_index()\n",
    "reverse_word_index = dict([(value, key) for (key, value) in word_index.items()])\n",
    "decoded_newswire = \" \".join([reverse_word_index.get(i - 3, \"?\") for i in\n",
    "    train_data[0]])"
   ]
  },
  {
   "cell_type": "code",
   "execution_count": 6,
   "metadata": {
    "ExecuteTime": {
     "end_time": "2022-12-15T16:11:20.677798Z",
     "start_time": "2022-12-15T16:11:20.671316Z"
    }
   },
   "outputs": [
    {
     "data": {
      "text/plain": [
       "'? ? ? said as a result of its december acquisition of space co it expects earnings per share in 1987 of 1 15 to 1 30 dlrs per share up from 70 cts in 1986 the company said pretax net should rise to nine to 10 mln dlrs from six mln dlrs in 1986 and rental operation revenues to 19 to 22 mln dlrs from 12 5 mln dlrs it said cash flow per share this year should be 2 50 to three dlrs reuter 3'"
      ]
     },
     "execution_count": 6,
     "metadata": {},
     "output_type": "execute_result"
    }
   ],
   "source": [
    "decoded_newswire"
   ]
  },
  {
   "cell_type": "code",
   "execution_count": 7,
   "metadata": {
    "ExecuteTime": {
     "end_time": "2022-12-15T16:11:21.214127Z",
     "start_time": "2022-12-15T16:11:21.207268Z"
    },
    "colab_type": "code"
   },
   "outputs": [
    {
     "data": {
      "text/plain": [
       "3"
      ]
     },
     "execution_count": 7,
     "metadata": {},
     "output_type": "execute_result"
    }
   ],
   "source": [
    "train_labels[10]"
   ]
  },
  {
   "cell_type": "markdown",
   "metadata": {
    "colab_type": "text"
   },
   "source": [
    "### Preparing the data"
   ]
  },
  {
   "cell_type": "markdown",
   "metadata": {
    "colab_type": "text"
   },
   "source": [
    "**Encoding the input data**"
   ]
  },
  {
   "cell_type": "code",
   "execution_count": 13,
   "metadata": {
    "ExecuteTime": {
     "end_time": "2022-12-15T16:15:25.137542Z",
     "start_time": "2022-12-15T16:15:24.773832Z"
    },
    "colab_type": "code"
   },
   "outputs": [],
   "source": [
    "import numpy as np\n",
    "def vectorize_sequences(sequences, dimension=10000):\n",
    "    results = np.zeros((len(sequences), dimension))\n",
    "    for i, sequence in enumerate(sequences):\n",
    "        for j in sequence:\n",
    "            results[i, j] = 1.\n",
    "    return results\n",
    "\n",
    "x_train = vectorize_sequences(train_data)\n",
    "x_test = vectorize_sequences(test_data)"
   ]
  },
  {
   "cell_type": "markdown",
   "metadata": {
    "colab_type": "text"
   },
   "source": [
    "**Encoding the labels**"
   ]
  },
  {
   "cell_type": "code",
   "execution_count": 18,
   "metadata": {
    "ExecuteTime": {
     "end_time": "2022-12-15T16:16:40.988820Z",
     "start_time": "2022-12-15T16:16:40.981210Z"
    }
   },
   "outputs": [
    {
     "data": {
      "text/plain": [
       "array([[0., 1., 1., ..., 0., 0., 0.],\n",
       "       [0., 1., 1., ..., 0., 0., 0.],\n",
       "       [0., 1., 1., ..., 0., 0., 0.],\n",
       "       ...,\n",
       "       [0., 1., 1., ..., 0., 0., 0.],\n",
       "       [0., 1., 1., ..., 0., 0., 0.],\n",
       "       [0., 1., 1., ..., 0., 0., 0.]])"
      ]
     },
     "execution_count": 18,
     "metadata": {},
     "output_type": "execute_result"
    }
   ],
   "source": [
    "x_train"
   ]
  },
  {
   "cell_type": "code",
   "execution_count": 26,
   "metadata": {
    "ExecuteTime": {
     "end_time": "2022-12-15T16:21:20.786935Z",
     "start_time": "2022-12-15T16:21:20.771207Z"
    },
    "colab_type": "code"
   },
   "outputs": [],
   "source": [
    "def to_one_hot(labels, dimension=46):\n",
    "    results = np.zeros((len(labels), dimension))\n",
    "    for i, label in enumerate(labels):\n",
    "        results[i, label] = 1.\n",
    "    return results\n",
    "y_train = to_one_hot(train_labels)\n",
    "y_test = to_one_hot(test_labels)"
   ]
  },
  {
   "cell_type": "code",
   "execution_count": 28,
   "metadata": {
    "ExecuteTime": {
     "end_time": "2022-12-15T16:21:36.336505Z",
     "start_time": "2022-12-15T16:21:36.330711Z"
    },
    "colab_type": "code"
   },
   "outputs": [],
   "source": [
    "from tensorflow.keras.utils import to_categorical\n",
    "y_train = to_categorical(train_labels)\n",
    "y_test = to_categorical(test_labels)"
   ]
  },
  {
   "cell_type": "markdown",
   "metadata": {
    "colab_type": "text"
   },
   "source": [
    "### Building your model"
   ]
  },
  {
   "cell_type": "markdown",
   "metadata": {
    "colab_type": "text"
   },
   "source": [
    "**Model definition**"
   ]
  },
  {
   "cell_type": "code",
   "execution_count": 30,
   "metadata": {
    "ExecuteTime": {
     "end_time": "2022-12-15T16:22:21.181599Z",
     "start_time": "2022-12-15T16:22:20.131110Z"
    },
    "colab_type": "code",
    "scrolled": true
   },
   "outputs": [
    {
     "name": "stderr",
     "output_type": "stream",
     "text": [
      "2022-12-15 16:22:20.171632: I tensorflow/stream_executor/platform/default/dso_loader.cc:48] Successfully opened dynamic library libcuda.so.1\n",
      "2022-12-15 16:22:20.491626: I tensorflow/core/common_runtime/gpu/gpu_device.cc:1716] Found device 0 with properties: \n",
      "pciBusID: 0000:2d:00.0 name: Quadro RTX 6000 computeCapability: 7.5\n",
      "coreClock: 1.77GHz coreCount: 72 deviceMemorySize: 23.65GiB deviceMemoryBandwidth: 625.94GiB/s\n",
      "2022-12-15 16:22:20.491649: I tensorflow/stream_executor/platform/default/dso_loader.cc:48] Successfully opened dynamic library libcudart.so.10.1\n",
      "2022-12-15 16:22:20.493259: I tensorflow/stream_executor/platform/default/dso_loader.cc:48] Successfully opened dynamic library libcublas.so.10\n",
      "2022-12-15 16:22:20.494982: I tensorflow/stream_executor/platform/default/dso_loader.cc:48] Successfully opened dynamic library libcufft.so.10\n",
      "2022-12-15 16:22:20.495259: I tensorflow/stream_executor/platform/default/dso_loader.cc:48] Successfully opened dynamic library libcurand.so.10\n",
      "2022-12-15 16:22:20.496900: I tensorflow/stream_executor/platform/default/dso_loader.cc:48] Successfully opened dynamic library libcusolver.so.10\n",
      "2022-12-15 16:22:20.497591: I tensorflow/stream_executor/platform/default/dso_loader.cc:48] Successfully opened dynamic library libcusparse.so.10\n",
      "2022-12-15 16:22:20.501010: I tensorflow/stream_executor/platform/default/dso_loader.cc:48] Successfully opened dynamic library libcudnn.so.7\n",
      "2022-12-15 16:22:20.501677: I tensorflow/core/common_runtime/gpu/gpu_device.cc:1858] Adding visible gpu devices: 0\n",
      "2022-12-15 16:22:20.502262: I tensorflow/core/platform/cpu_feature_guard.cc:142] This TensorFlow binary is optimized with oneAPI Deep Neural Network Library (oneDNN)to use the following CPU instructions in performance-critical operations:  AVX2 AVX512F FMA\n",
      "To enable them in other operations, rebuild TensorFlow with the appropriate compiler flags.\n",
      "2022-12-15 16:22:20.514519: I tensorflow/core/platform/profile_utils/cpu_utils.cc:104] CPU Frequency: 3400000000 Hz\n",
      "2022-12-15 16:22:20.517627: I tensorflow/compiler/xla/service/service.cc:168] XLA service 0x55667848bd80 initialized for platform Host (this does not guarantee that XLA will be used). Devices:\n",
      "2022-12-15 16:22:20.517647: I tensorflow/compiler/xla/service/service.cc:176]   StreamExecutor device (0): Host, Default Version\n",
      "2022-12-15 16:22:20.629245: I tensorflow/compiler/xla/service/service.cc:168] XLA service 0x5566784f8210 initialized for platform CUDA (this does not guarantee that XLA will be used). Devices:\n",
      "2022-12-15 16:22:20.629297: I tensorflow/compiler/xla/service/service.cc:176]   StreamExecutor device (0): Quadro RTX 6000, Compute Capability 7.5\n",
      "2022-12-15 16:22:20.630512: I tensorflow/core/common_runtime/gpu/gpu_device.cc:1716] Found device 0 with properties: \n",
      "pciBusID: 0000:2d:00.0 name: Quadro RTX 6000 computeCapability: 7.5\n",
      "coreClock: 1.77GHz coreCount: 72 deviceMemorySize: 23.65GiB deviceMemoryBandwidth: 625.94GiB/s\n",
      "2022-12-15 16:22:20.630571: I tensorflow/stream_executor/platform/default/dso_loader.cc:48] Successfully opened dynamic library libcudart.so.10.1\n",
      "2022-12-15 16:22:20.630612: I tensorflow/stream_executor/platform/default/dso_loader.cc:48] Successfully opened dynamic library libcublas.so.10\n",
      "2022-12-15 16:22:20.630639: I tensorflow/stream_executor/platform/default/dso_loader.cc:48] Successfully opened dynamic library libcufft.so.10\n",
      "2022-12-15 16:22:20.630679: I tensorflow/stream_executor/platform/default/dso_loader.cc:48] Successfully opened dynamic library libcurand.so.10\n",
      "2022-12-15 16:22:20.630707: I tensorflow/stream_executor/platform/default/dso_loader.cc:48] Successfully opened dynamic library libcusolver.so.10\n",
      "2022-12-15 16:22:20.630732: I tensorflow/stream_executor/platform/default/dso_loader.cc:48] Successfully opened dynamic library libcusparse.so.10\n",
      "2022-12-15 16:22:20.630759: I tensorflow/stream_executor/platform/default/dso_loader.cc:48] Successfully opened dynamic library libcudnn.so.7\n",
      "2022-12-15 16:22:20.632349: I tensorflow/core/common_runtime/gpu/gpu_device.cc:1858] Adding visible gpu devices: 0\n",
      "2022-12-15 16:22:20.632404: I tensorflow/stream_executor/platform/default/dso_loader.cc:48] Successfully opened dynamic library libcudart.so.10.1\n",
      "2022-12-15 16:22:21.162610: I tensorflow/core/common_runtime/gpu/gpu_device.cc:1257] Device interconnect StreamExecutor with strength 1 edge matrix:\n",
      "2022-12-15 16:22:21.162647: I tensorflow/core/common_runtime/gpu/gpu_device.cc:1263]      0 \n",
      "2022-12-15 16:22:21.162658: I tensorflow/core/common_runtime/gpu/gpu_device.cc:1276] 0:   N \n",
      "2022-12-15 16:22:21.163496: I tensorflow/core/common_runtime/gpu/gpu_device.cc:1402] Created TensorFlow device (/job:localhost/replica:0/task:0/device:GPU:0 with 829 MB memory) -> physical GPU (device: 0, name: Quadro RTX 6000, pci bus id: 0000:2d:00.0, compute capability: 7.5)\n"
     ]
    }
   ],
   "source": [
    "from tensorflow import keras\n",
    "from tensorflow.keras import layers\n",
    "\n",
    "model = keras.Sequential([\n",
    "    layers.Dense(64, activation=\"relu\"),\n",
    "    layers.Dense(64, activation=\"relu\"),\n",
    "    layers.Dense(46, activation=\"softmax\")\n",
    "])"
   ]
  },
  {
   "cell_type": "markdown",
   "metadata": {
    "colab_type": "text"
   },
   "source": [
    "**Compiling the model**"
   ]
  },
  {
   "cell_type": "markdown",
   "metadata": {},
   "source": [
    "<h2><center> $L = -\\frac{1}{N} \\sum_{i=1}^{N} \\sum_{j=1}^{L} y_{ij} \\log(P(y_{ij})) $</center></h2>"
   ]
  },
  {
   "cell_type": "code",
   "execution_count": 31,
   "metadata": {
    "ExecuteTime": {
     "end_time": "2022-12-15T16:23:49.722680Z",
     "start_time": "2022-12-15T16:23:49.698579Z"
    },
    "colab_type": "code"
   },
   "outputs": [],
   "source": [
    "model.compile(optimizer=\"rmsprop\",\n",
    "              loss=\"categorical_crossentropy\",\n",
    "              metrics=[\"accuracy\"])"
   ]
  },
  {
   "cell_type": "markdown",
   "metadata": {
    "colab_type": "text"
   },
   "source": [
    "### Validating your approach"
   ]
  },
  {
   "cell_type": "markdown",
   "metadata": {
    "colab_type": "text"
   },
   "source": [
    "**Setting aside a validation set**"
   ]
  },
  {
   "cell_type": "code",
   "execution_count": 32,
   "metadata": {
    "ExecuteTime": {
     "end_time": "2022-12-15T16:23:52.207772Z",
     "start_time": "2022-12-15T16:23:52.202208Z"
    },
    "colab_type": "code"
   },
   "outputs": [],
   "source": [
    "x_val = x_train[:1000]\n",
    "partial_x_train = x_train[1000:]\n",
    "y_val = y_train[:1000]\n",
    "partial_y_train = y_train[1000:]"
   ]
  },
  {
   "cell_type": "markdown",
   "metadata": {
    "colab_type": "text"
   },
   "source": [
    "**Training the model**"
   ]
  },
  {
   "cell_type": "code",
   "execution_count": 33,
   "metadata": {
    "ExecuteTime": {
     "end_time": "2022-12-15T16:24:01.210341Z",
     "start_time": "2022-12-15T16:23:56.217715Z"
    },
    "colab_type": "code",
    "scrolled": true
   },
   "outputs": [
    {
     "name": "stdout",
     "output_type": "stream",
     "text": [
      "Epoch 1/20\n"
     ]
    },
    {
     "name": "stderr",
     "output_type": "stream",
     "text": [
      "2022-12-15 16:23:56.920763: I tensorflow/stream_executor/platform/default/dso_loader.cc:48] Successfully opened dynamic library libcublas.so.10\n"
     ]
    },
    {
     "name": "stdout",
     "output_type": "stream",
     "text": [
      "16/16 [==============================] - 0s 20ms/step - loss: 2.5488 - accuracy: 0.5331 - val_loss: 1.7244 - val_accuracy: 0.6340\n",
      "Epoch 2/20\n",
      "16/16 [==============================] - 0s 11ms/step - loss: 1.4309 - accuracy: 0.7005 - val_loss: 1.3326 - val_accuracy: 0.7020\n",
      "Epoch 3/20\n",
      "16/16 [==============================] - 0s 12ms/step - loss: 1.0802 - accuracy: 0.7687 - val_loss: 1.1630 - val_accuracy: 0.7520\n",
      "Epoch 4/20\n",
      "16/16 [==============================] - 0s 11ms/step - loss: 0.8552 - accuracy: 0.8206 - val_loss: 1.0551 - val_accuracy: 0.7770\n",
      "Epoch 5/20\n",
      "16/16 [==============================] - 0s 11ms/step - loss: 0.6793 - accuracy: 0.8583 - val_loss: 0.9851 - val_accuracy: 0.7980\n",
      "Epoch 6/20\n",
      "16/16 [==============================] - 0s 11ms/step - loss: 0.5445 - accuracy: 0.8874 - val_loss: 0.9275 - val_accuracy: 0.8010\n",
      "Epoch 7/20\n",
      "16/16 [==============================] - 0s 11ms/step - loss: 0.4333 - accuracy: 0.9078 - val_loss: 0.9013 - val_accuracy: 0.8160\n",
      "Epoch 8/20\n",
      "16/16 [==============================] - 0s 10ms/step - loss: 0.3518 - accuracy: 0.9255 - val_loss: 0.8809 - val_accuracy: 0.8190\n",
      "Epoch 9/20\n",
      "16/16 [==============================] - 0s 11ms/step - loss: 0.2916 - accuracy: 0.9366 - val_loss: 0.9121 - val_accuracy: 0.8030\n",
      "Epoch 10/20\n",
      "16/16 [==============================] - 0s 10ms/step - loss: 0.2446 - accuracy: 0.9437 - val_loss: 0.9046 - val_accuracy: 0.8160\n",
      "Epoch 11/20\n",
      "16/16 [==============================] - 0s 10ms/step - loss: 0.2120 - accuracy: 0.9484 - val_loss: 0.9411 - val_accuracy: 0.8130\n",
      "Epoch 12/20\n",
      "16/16 [==============================] - 0s 10ms/step - loss: 0.1842 - accuracy: 0.9499 - val_loss: 0.9217 - val_accuracy: 0.8130\n",
      "Epoch 13/20\n",
      "16/16 [==============================] - 0s 11ms/step - loss: 0.1660 - accuracy: 0.9516 - val_loss: 0.9246 - val_accuracy: 0.8160\n",
      "Epoch 14/20\n",
      "16/16 [==============================] - 0s 13ms/step - loss: 0.1525 - accuracy: 0.9549 - val_loss: 0.9660 - val_accuracy: 0.8160\n",
      "Epoch 15/20\n",
      "16/16 [==============================] - 0s 12ms/step - loss: 0.1423 - accuracy: 0.9572 - val_loss: 0.9773 - val_accuracy: 0.8120\n",
      "Epoch 16/20\n",
      "16/16 [==============================] - 0s 12ms/step - loss: 0.1340 - accuracy: 0.9557 - val_loss: 1.0008 - val_accuracy: 0.8080\n",
      "Epoch 17/20\n",
      "16/16 [==============================] - 0s 13ms/step - loss: 0.1227 - accuracy: 0.9575 - val_loss: 0.9887 - val_accuracy: 0.8090\n",
      "Epoch 18/20\n",
      "16/16 [==============================] - 0s 12ms/step - loss: 0.1183 - accuracy: 0.9578 - val_loss: 1.0535 - val_accuracy: 0.8010\n",
      "Epoch 19/20\n",
      "16/16 [==============================] - 0s 12ms/step - loss: 0.1177 - accuracy: 0.9569 - val_loss: 1.0575 - val_accuracy: 0.8090\n",
      "Epoch 20/20\n",
      "16/16 [==============================] - 0s 12ms/step - loss: 0.1094 - accuracy: 0.9575 - val_loss: 1.0278 - val_accuracy: 0.8130\n"
     ]
    }
   ],
   "source": [
    "history = model.fit(partial_x_train,\n",
    "                    partial_y_train,\n",
    "                    epochs=20,\n",
    "                    batch_size=512,\n",
    "                    validation_data=(x_val, y_val))"
   ]
  },
  {
   "cell_type": "markdown",
   "metadata": {
    "colab_type": "text"
   },
   "source": [
    "**Plotting the training and validation loss**"
   ]
  },
  {
   "cell_type": "code",
   "execution_count": 34,
   "metadata": {
    "ExecuteTime": {
     "end_time": "2022-12-15T16:24:04.375487Z",
     "start_time": "2022-12-15T16:24:02.826070Z"
    },
    "colab_type": "code"
   },
   "outputs": [
    {
     "data": {
      "image/png": "[encoded data removed]",
      "text/plain": [
       "<Figure size 432x288 with 1 Axes>"
      ]
     },
     "metadata": {
      "needs_background": "light"
     },
     "output_type": "display_data"
    }
   ],
   "source": [
    "import matplotlib.pyplot as plt\n",
    "loss = history.history[\"loss\"]\n",
    "val_loss = history.history[\"val_loss\"]\n",
    "epochs = range(1, len(loss) + 1)\n",
    "plt.plot(epochs, loss, \"bo\", label=\"Training loss\")\n",
    "plt.plot(epochs, val_loss, \"b\", label=\"Validation loss\")\n",
    "plt.title(\"Training and validation loss\")\n",
    "plt.xlabel(\"Epochs\")\n",
    "plt.ylabel(\"Loss\")\n",
    "plt.grid()\n",
    "plt.legend()\n",
    "plt.show()"
   ]
  },
  {
   "cell_type": "markdown",
   "metadata": {
    "colab_type": "text"
   },
   "source": [
    "**Plotting the training and validation accuracy**"
   ]
  },
  {
   "cell_type": "code",
   "execution_count": 35,
   "metadata": {
    "ExecuteTime": {
     "end_time": "2022-12-15T16:24:12.748878Z",
     "start_time": "2022-12-15T16:24:12.626405Z"
    },
    "colab_type": "code"
   },
   "outputs": [
    {
     "data": {
      "image/png": "[encoded data removed]",
      "text/plain": [
       "<Figure size 432x288 with 1 Axes>"
      ]
     },
     "metadata": {
      "needs_background": "light"
     },
     "output_type": "display_data"
    }
   ],
   "source": [
    "plt.clf()\n",
    "acc = history.history[\"accuracy\"]\n",
    "val_acc = history.history[\"val_accuracy\"]\n",
    "plt.plot(epochs, acc, \"bo\", label=\"Training accuracy\")\n",
    "plt.plot(epochs, val_acc, \"b\", label=\"Validation accuracy\")\n",
    "plt.title(\"Training and validation accuracy\")\n",
    "plt.xlabel(\"Epochs\")\n",
    "plt.ylabel(\"Accuracy\")\n",
    "plt.legend()\n",
    "plt.grid()\n",
    "plt.show()"
   ]
  },
  {
   "cell_type": "markdown",
   "metadata": {
    "colab_type": "text"
   },
   "source": [
    "**Retraining a model from scratch**"
   ]
  },
  {
   "cell_type": "code",
   "execution_count": 36,
   "metadata": {
    "ExecuteTime": {
     "end_time": "2022-12-15T16:24:30.551418Z",
     "start_time": "2022-12-15T16:24:28.049582Z"
    },
    "colab_type": "code"
   },
   "outputs": [
    {
     "name": "stdout",
     "output_type": "stream",
     "text": [
      "Epoch 1/9\n",
      "18/18 [==============================] - 0s 9ms/step - loss: 2.5318 - accuracy: 0.5412\n",
      "Epoch 2/9\n",
      "18/18 [==============================] - 0s 9ms/step - loss: 1.3110 - accuracy: 0.7308\n",
      "Epoch 3/9\n",
      "18/18 [==============================] - 0s 9ms/step - loss: 0.9805 - accuracy: 0.7943\n",
      "Epoch 4/9\n",
      "18/18 [==============================] - 0s 9ms/step - loss: 0.7702 - accuracy: 0.8392\n",
      "Epoch 5/9\n",
      "18/18 [==============================] - 0s 9ms/step - loss: 0.6122 - accuracy: 0.8737\n",
      "Epoch 6/9\n",
      "18/18 [==============================] - 0s 9ms/step - loss: 0.4927 - accuracy: 0.8980\n",
      "Epoch 7/9\n",
      "18/18 [==============================] - 0s 9ms/step - loss: 0.3937 - accuracy: 0.9173\n",
      "Epoch 8/9\n",
      "18/18 [==============================] - 0s 8ms/step - loss: 0.3211 - accuracy: 0.9306\n",
      "Epoch 9/9\n",
      "18/18 [==============================] - 0s 8ms/step - loss: 0.2732 - accuracy: 0.9385\n",
      "71/71 [==============================] - 0s 2ms/step - loss: 0.9600 - accuracy: 0.7916\n"
     ]
    }
   ],
   "source": [
    "model = keras.Sequential([\n",
    "  layers.Dense(64, activation=\"relu\"),\n",
    "  layers.Dense(64, activation=\"relu\"),\n",
    "  layers.Dense(46, activation=\"softmax\")\n",
    "])\n",
    "model.compile(optimizer=\"rmsprop\",\n",
    "              loss=\"categorical_crossentropy\",\n",
    "              metrics=[\"accuracy\"])\n",
    "model.fit(x_train,\n",
    "          y_train,\n",
    "          epochs=9,\n",
    "          batch_size=512)\n",
    "results = model.evaluate(x_test, y_test)"
   ]
  },
  {
   "cell_type": "code",
   "execution_count": 45,
   "metadata": {
    "ExecuteTime": {
     "end_time": "2022-12-14T19:38:29.597420Z",
     "start_time": "2022-12-14T19:38:29.583863Z"
    },
    "colab_type": "code"
   },
   "outputs": [
    {
     "data": {
      "text/plain": [
       "[0.9711029529571533, 0.784060537815094]"
      ]
     },
     "execution_count": 45,
     "metadata": {},
     "output_type": "execute_result"
    }
   ],
   "source": [
    "results"
   ]
  },
  {
   "cell_type": "markdown",
   "metadata": {},
   "source": [
    "# A baseline estimate after randomly shuffling the labels"
   ]
  },
  {
   "cell_type": "code",
   "execution_count": 40,
   "metadata": {
    "ExecuteTime": {
     "end_time": "2022-12-15T16:26:12.929820Z",
     "start_time": "2022-12-15T16:26:12.920577Z"
    },
    "colab_type": "code"
   },
   "outputs": [
    {
     "data": {
      "text/plain": [
       "0.195013357079252"
      ]
     },
     "execution_count": 40,
     "metadata": {},
     "output_type": "execute_result"
    }
   ],
   "source": [
    "import copy\n",
    "test_labels_copy = copy.copy(test_labels)\n",
    "np.random.shuffle(test_labels_copy)\n",
    "hits_array = np.array(test_labels) == np.array(test_labels_copy)\n",
    "hits_array.mean()"
   ]
  },
  {
   "cell_type": "markdown",
   "metadata": {
    "colab_type": "text"
   },
   "source": [
    "### Generating predictions on new data"
   ]
  },
  {
   "cell_type": "code",
   "execution_count": 41,
   "metadata": {
    "ExecuteTime": {
     "end_time": "2022-12-15T16:26:29.202315Z",
     "start_time": "2022-12-15T16:26:28.928439Z"
    },
    "colab_type": "code"
   },
   "outputs": [],
   "source": [
    "predictions = model.predict(x_test)"
   ]
  },
  {
   "cell_type": "code",
   "execution_count": 46,
   "metadata": {
    "ExecuteTime": {
     "end_time": "2022-12-15T16:27:29.415092Z",
     "start_time": "2022-12-15T16:27:29.407841Z"
    },
    "colab_type": "code"
   },
   "outputs": [
    {
     "data": {
      "text/plain": [
       "4"
      ]
     },
     "execution_count": 46,
     "metadata": {},
     "output_type": "execute_result"
    }
   ],
   "source": [
    "np.argmax(predictions[0])"
   ]
  },
  {
   "cell_type": "code",
   "execution_count": 53,
   "metadata": {
    "ExecuteTime": {
     "end_time": "2022-12-15T16:30:16.287957Z",
     "start_time": "2022-12-15T16:30:16.280297Z"
    }
   },
   "outputs": [
    {
     "data": {
      "text/plain": [
       "3"
      ]
     },
     "execution_count": 53,
     "metadata": {},
     "output_type": "execute_result"
    }
   ],
   "source": [
    "test_labels[0]"
   ]
  },
  {
   "cell_type": "code",
   "execution_count": 51,
   "metadata": {
    "ExecuteTime": {
     "end_time": "2022-12-15T16:29:07.966043Z",
     "start_time": "2022-12-15T16:29:07.960331Z"
    }
   },
   "outputs": [],
   "source": [
    "predictions_label = np.argmax(predictions, axis=1)\n"
   ]
  },
  {
   "cell_type": "code",
   "execution_count": 54,
   "metadata": {
    "ExecuteTime": {
     "end_time": "2022-12-15T16:31:02.975581Z",
     "start_time": "2022-12-15T16:31:02.967569Z"
    }
   },
   "outputs": [
    {
     "data": {
      "text/plain": [
       "0.7916295636687445"
      ]
     },
     "execution_count": 54,
     "metadata": {},
     "output_type": "execute_result"
    }
   ],
   "source": [
    "hits_array2 = np.array(test_labels) == np.array(predictions_label)\n",
    "hits_array2.mean()"
   ]
  },
  {
   "cell_type": "code",
   "execution_count": null,
   "metadata": {},
   "outputs": [],
   "source": []
  }
 ],
 "metadata": {
  "colab": {
   "collapsed_sections": [],
   "name": "chapter04_getting-started-with-neural-networks.i",
   "private_outputs": false,
   "provenance": [],
   "toc_visible": true
  },
  "kernelspec": {
   "display_name": "Python 3 (ipykernel)",
   "language": "python",
   "name": "python3"
  },
  "language_info": {
   "codemirror_mode": {
    "name": "ipython",
    "version": 3
   },
   "file_extension": ".py",
   "mimetype": "text/x-python",
   "name": "python",
   "nbconvert_exporter": "python",
   "pygments_lexer": "ipython3",
   "version": "3.8.13"
  },
  "varInspector": {
   "cols": {
    "lenName": 16,
    "lenType": 16,
    "lenVar": 40
   },
   "kernels_config": {
    "python": {
     "delete_cmd_postfix": "",
     "delete_cmd_prefix": "del ",
     "library": "var_list.py",
     "varRefreshCmd": "print(var_dic_list())"
    },
    "r": {
     "delete_cmd_postfix": ") ",
     "delete_cmd_prefix": "rm(",
     "library": "var_list.r",
     "varRefreshCmd": "cat(var_dic_list()) "
    }
   },
   "types_to_exclude": [
    "module",
    "function",
    "builtin_function_or_method",
    "instance",
    "_Feature"
   ],
   "window_display": false
  }
 },
 "nbformat": 4,
 "nbformat_minor": 1
}
