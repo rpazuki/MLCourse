{
 "cells": [
  {
   "cell_type": "code",
   "execution_count": 28,
   "id": "9dcc17f3",
   "metadata": {
    "ExecuteTime": {
     "end_time": "2022-12-08T00:40:48.662920Z",
     "start_time": "2022-12-08T00:40:48.642364Z"
    }
   },
   "outputs": [],
   "source": [
    "%config Completer.use_jedi = False\n",
    "import numpy as np\n",
    "import matplotlib.pyplot as plt\n",
    "import pandas as pd\n",
    "import seaborn as sns\n",
    "\n",
    "!wget https://raw.githubusercontent.com/rpazuki/MLCourse/main/utils.py\n",
    "from utils import *\n",
    "\n",
    "np.random.seed(42)"
   ]
  },
  {
   "cell_type": "markdown",
   "id": "c11682e3",
   "metadata": {},
   "source": [
    "### First, load the data"
   ]
  },
  {
   "cell_type": "code",
   "execution_count": null,
   "id": "9280b033",
   "metadata": {
    "ExecuteTime": {
     "end_time": "2022-12-08T00:50:37.078947Z",
     "start_time": "2022-12-08T00:50:36.836529Z"
    }
   },
   "outputs": [],
   "source": [
    "X, labels = classification_2D_dataset()\n",
    "df = pd.DataFrame(np.hstack([X,labels[:, np.newaxis]]),columns=[\"x\", \"y\", \"type\"])\n",
    "sns.lmplot( x=\"x\", y=\"y\", data=df, \n",
    "           fit_reg=False, hue=\"type\", \n",
    "           legend=True, markers=[\"o\", \"x\", \"1\"], palette=\"colorblind\")\n",
    "plt.show()"
   ]
  },
  {
   "cell_type": "markdown",
   "id": "9bf614cc",
   "metadata": {
    "ExecuteTime": {
     "end_time": "2022-12-07T22:42:37.777768Z",
     "start_time": "2022-12-07T22:42:37.760373Z"
    }
   },
   "source": [
    "> And also, a grid plot for comparing two by two scatter plots of continuous quantities."
   ]
  },
  {
   "cell_type": "code",
   "execution_count": null,
   "id": "1562d60c",
   "metadata": {
    "ExecuteTime": {
     "end_time": "2022-12-08T00:52:47.488329Z",
     "start_time": "2022-12-08T00:52:46.529204Z"
    }
   },
   "outputs": [],
   "source": [
    "g = sns.PairGrid(df, hue=\"type\", palette=\"colorblind\")\n",
    "g.map_diag(sns.histplot)\n",
    "g.map_offdiag(sns.scatterplot)\n",
    "g.add_legend()\n",
    "g.fig.set_size_inches(12,6)\n",
    "plt.show()"
   ]
  },
  {
   "cell_type": "markdown",
   "id": "80042cbc",
   "metadata": {},
   "source": [
    "### Divide the dataset to Train and test, using scikit-learn __train_test_split__ function"
   ]
  },
  {
   "cell_type": "code",
   "execution_count": 69,
   "id": "cc293ba8",
   "metadata": {
    "ExecuteTime": {
     "end_time": "2022-12-08T00:53:42.671701Z",
     "start_time": "2022-12-08T00:53:41.620632Z"
    }
   },
   "outputs": [],
   "source": [
    "from sklearn.model_selection import train_test_split\n",
    "X_train, X_test, y_train, y_test = train_test_split(X, labels, test_size=0.33, random_state=42)"
   ]
  },
  {
   "cell_type": "markdown",
   "id": "9491298b",
   "metadata": {},
   "source": [
    "### Train the model by __Logistic Regression__ model and predict the values of the test set."
   ]
  },
  {
   "cell_type": "code",
   "execution_count": 70,
   "id": "33820cbc",
   "metadata": {
    "ExecuteTime": {
     "end_time": "2022-12-08T00:53:45.336732Z",
     "start_time": "2022-12-08T00:53:45.142616Z"
    }
   },
   "outputs": [],
   "source": [
    "from sklearn.linear_model import LogisticRegression\n",
    "\n",
    "reg = LogisticRegression(max_iter=1000)\n",
    "reg.fit(X_train, y_train)\n",
    "y_pred = reg.predict(X_test)"
   ]
  },
  {
   "cell_type": "code",
   "execution_count": null,
   "id": "5a485825",
   "metadata": {
    "ExecuteTime": {
     "end_time": "2022-12-08T00:54:49.955468Z",
     "start_time": "2022-12-08T00:54:49.947855Z"
    }
   },
   "outputs": [],
   "source": [
    "from sklearn import metrics\n",
    "\n",
    "accuracy = metrics.accuracy_score(y_test, y_pred)\n",
    "print(f\"Prediction Accuracy: {accuracy*100:.1f}%\")\n"
   ]
  },
  {
   "cell_type": "code",
   "execution_count": null,
   "id": "4ee6abc3",
   "metadata": {
    "ExecuteTime": {
     "end_time": "2022-12-08T01:01:41.280149Z",
     "start_time": "2022-12-08T01:01:41.140737Z"
    }
   },
   "outputs": [],
   "source": [
    "from sklearn.inspection import DecisionBoundaryDisplay\n",
    "areas = DecisionBoundaryDisplay.from_estimator(reg, X, response_method=\"predict\",\n",
    "     xlabel=\"x\", ylabel=\"y\",\n",
    "     alpha=0.5,\n",
    " )\n",
    "areas.ax_.scatter(X[:, 0], X[:, 1], c=labels, edgecolor=\"k\")\n",
    "plt.show()"
   ]
  },
  {
   "cell_type": "code",
   "execution_count": null,
   "id": "817a2139",
   "metadata": {},
   "outputs": [],
   "source": []
  }
 ],
 "metadata": {
  "kernelspec": {
   "display_name": "Python 3 (ipykernel)",
   "language": "python",
   "name": "python3"
  },
  "language_info": {
   "codemirror_mode": {
    "name": "ipython",
    "version": 3
   },
   "file_extension": ".py",
   "mimetype": "text/x-python",
   "name": "python",
   "nbconvert_exporter": "python",
   "pygments_lexer": "ipython3",
   "version": "3.8.13"
  },
  "varInspector": {
   "cols": {
    "lenName": 16,
    "lenType": 16,
    "lenVar": 40
   },
   "kernels_config": {
    "python": {
     "delete_cmd_postfix": "",
     "delete_cmd_prefix": "del ",
     "library": "var_list.py",
     "varRefreshCmd": "print(var_dic_list())"
    },
    "r": {
     "delete_cmd_postfix": ") ",
     "delete_cmd_prefix": "rm(",
     "library": "var_list.r",
     "varRefreshCmd": "cat(var_dic_list()) "
    }
   },
   "types_to_exclude": [
    "module",
    "function",
    "builtin_function_or_method",
    "instance",
    "_Feature"
   ],
   "window_display": false
  }
 },
 "nbformat": 4,
 "nbformat_minor": 5
}
